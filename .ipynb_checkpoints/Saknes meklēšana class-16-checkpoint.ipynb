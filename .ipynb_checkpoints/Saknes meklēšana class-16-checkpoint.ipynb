{
 "cells": [
  {
   "cell_type": "markdown",
   "metadata": {},
   "source": [
    "170.py"
   ]
  },
  {
   "cell_type": "code",
   "execution_count": 4,
   "metadata": {},
   "outputs": [
    {
     "name": "stdout",
     "output_type": "stream",
     "text": [
      "dotajaa intervaalaa sakne(s) ir!\n",
      "Sakne ir: \n"
     ]
    },
    {
     "data": {
      "text/plain": [
       "(None, 3.1425781250000004)"
      ]
     },
     "execution_count": 4,
     "metadata": {},
     "output_type": "execute_result"
    }
   ],
   "source": [
    "# Fails: 170.py\n",
    "# Autors: Didzis Sauskajs\n",
    "# Apliecibas numurs: 181REB300\n",
    "# Datums: 13.11.2018.\n",
    "# Sagatave funkcijas saknes mekleeshanai ar dihatomijas metodi\n",
    "\n",
    "# -- coding: utf -8 --\n",
    "from math import sin, fabs\n",
    "from time import sleep\n",
    "\n",
    "def f(x):\n",
    "    return sin(x)\n",
    "\n",
    "#Definejam argumenta x robezhas:\n",
    "a = 1.1\n",
    "b = 3.2\n",
    "\n",
    "# Aprekjinam funkcijas vertibas dotajos punktos:\n",
    "funa = f(a)\n",
    "funb = f(b)\n",
    "\n",
    "# Paarbaudam, vai dotajaa intervaalaa ir saknes:\n",
    "if (funa * funb > 0.0):\n",
    "    print (\"Dotajaa intervala [%s, %s] saknju nav\")% (a,b)\n",
    "    sleep(1); exit()  #zinjo uz ekraana 1 sec\n",
    "else:\n",
    "    print (\"dotajaa intervaalaa sakne(s) ir!\")\n",
    "\n",
    "# Defineejam  precizitaati , ar kaadu mekleesim sakni :\n",
    "deltax = 0.01\n",
    "\n",
    "# Sashaurinam saknes mekleeshanas robezhas:\n",
    "while ( fabs(b-a) > deltax ) :\n",
    "    x = (a+b)/2; funx = f(x)\n",
    "    if ( funa*funx < 0.) :\n",
    "        b = x\n",
    "    else :\n",
    "        a = x\n",
    "print (\"Sakne ir: \"), x "
   ]
  },
  {
   "cell_type": "markdown",
   "metadata": {},
   "source": [
    "171.py"
   ]
  },
  {
   "cell_type": "code",
   "execution_count": 6,
   "metadata": {},
   "outputs": [
    {
     "name": "stdout",
     "output_type": "stream",
     "text": [
      "dotajaa intervaalaa sakne(s) ir!\n",
      "Sakne ir: \n"
     ]
    },
    {
     "data": {
      "text/plain": [
       "(None, 3.1416168212890634)"
      ]
     },
     "execution_count": 6,
     "metadata": {},
     "output_type": "execute_result"
    }
   ],
   "source": [
    "# Fails: 170.py\n",
    "# Autors: Didzis Sauskajs\n",
    "# Apliecibas numurs: 181REB300\n",
    "# Datums: 13.11.2018.\n",
    "# Sagatave funkcijas saknes mekleeshanai ar dihatomijas metodi\n",
    "\n",
    "# -- coding: utf -8 --\n",
    "from math import sin, fabs\n",
    "from time import sleep\n",
    "\n",
    "def f(x):\n",
    "    return sin(x)\n",
    "\n",
    "#Definejam argumenta x robezhas:\n",
    "a = 1.1\n",
    "b = 3.2\n",
    "\n",
    "# Aprekjinam funkcijas vertibas dotajos punktos:\n",
    "funa = f(a)\n",
    "funb = f(b)\n",
    "\n",
    "# Paarbaudam, vai dotajaa intervaalaa ir saknes:\n",
    "if (funa * funb > 0.0):\n",
    "    print (\"Dotajaa intervala [%s, %s] saknju nav\")% (a,b)\n",
    "    sleep(1); exit()  #zinjo uz ekraana 1 sec\n",
    "else:\n",
    "    print (\"dotajaa intervaalaa sakne(s) ir!\")\n",
    "\n",
    "# Defineejam  precizitaati , ar kaadu mekleesim sakni :\n",
    "deltax = 0.0001\n",
    "\n",
    "# Sashaurinam saknes mekleeshanas robezhas:\n",
    "while ( fabs(b-a) > deltax ) :\n",
    "    x = (a+b)/2; funx = f(x)\n",
    "    if ( funa*funx < 0.) :\n",
    "        b = x\n",
    "    else :\n",
    "        a = x     \n",
    "print (\"Sakne ir: \"), x"
   ]
  },
  {
   "cell_type": "code",
   "execution_count": null,
   "metadata": {},
   "outputs": [],
   "source": []
  }
 ],
 "metadata": {
  "kernelspec": {
   "display_name": "Python 3",
   "language": "python",
   "name": "python3"
  },
  "language_info": {
   "codemirror_mode": {
    "name": "ipython",
    "version": 3
   },
   "file_extension": ".py",
   "mimetype": "text/x-python",
   "name": "python",
   "nbconvert_exporter": "python",
   "pygments_lexer": "ipython3",
   "version": "3.6.4"
  }
 },
 "nbformat": 4,
 "nbformat_minor": 2
}
