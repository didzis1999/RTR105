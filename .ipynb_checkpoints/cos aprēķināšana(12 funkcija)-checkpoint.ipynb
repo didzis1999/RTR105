{
 "cells": [
  {
   "cell_type": "code",
   "execution_count": 1,
   "metadata": {},
   "outputs": [
    {
     "ename": "SyntaxError",
     "evalue": "invalid syntax (<ipython-input-1-7341b20bcedd>, line 12)",
     "output_type": "error",
     "traceback": [
      "\u001b[0;36m  File \u001b[0;32m\"<ipython-input-1-7341b20bcedd>\"\u001b[0;36m, line \u001b[0;32m12\u001b[0m\n\u001b[0;31m    R = (-1)x2/((2*k)(2*k+1))\u001b[0m\n\u001b[0m             ^\u001b[0m\n\u001b[0;31mSyntaxError\u001b[0m\u001b[0;31m:\u001b[0m invalid syntax\n"
     ]
    }
   ],
   "source": [
    "# -- coding: utf-8 --\n",
    "from math import cos\n",
    "\n",
    "def mans_cosinuss(x):\n",
    "    k = 1\n",
    "    a = (-1)*0*x*2/(1)\n",
    "    S = a\n",
    "    print('a0 = %6.2f S0 = %6.2f'%(a,S))\n",
    "\n",
    "    while k <= 500:\n",
    "        k = k + 1\n",
    "        R = (-1)x2/((2*k)(2*k+1))\n",
    "        a = a * R\n",
    "        S = S + a\n",
    "        if k == 499:\n",
    "            print(\"a%d = %6.2f S%d = %6.2f\"%(k,a,k,S))\n",
    "        if k == 500:\n",
    "            print('a%d = %6.2f S%d = %6.2f'%(k,a,k,S))\n",
    "\n",
    "    return S\n",
    "\n",
    "\n",
    "print(\"cos aprekinasana:\")\n",
    "print(\"\")\n",
    "\n",
    "x= float(input(\"Ievadi argumentu (x): \"))\n",
    "y = sin(x * x)\n",
    "print(\"PC cos:\", y)\n",
    "print(\"\")\n",
    "\n",
    "yy = mans_cosinuss(x)\n",
    "print(\"My  cos:\", yy)\n",
    "\n",
    "print('Formula: y = cos(x*x)')\n",
    "print('             500')\n",
    "print('            __')\n",
    "print('            \\\\          k+1   4*k+2')\n",
    "print('     2       \\\\     (-1)  *  x ')\n",
    "print('cos(x)   =    |     ----------------- = 1')    \n",
    "print('             /        (2 * k )!')\n",
    "print('            /___')\n",
    "print('             k=1')\n",
    "\n",
    "print('                                   4 ')\n",
    "print('                           (-1) * x  ')\n",
    "print('rekurences reizinatajs: ______  ')\n",
    "print('                         k * 2 * (2*k+1)')"
   ]
  },
  {
   "cell_type": "code",
   "execution_count": null,
   "metadata": {},
   "outputs": [],
   "source": []
  }
 ],
 "metadata": {
  "kernelspec": {
   "display_name": "Python 3",
   "language": "python",
   "name": "python3"
  },
  "language_info": {
   "codemirror_mode": {
    "name": "ipython",
    "version": 3
   },
   "file_extension": ".py",
   "mimetype": "text/x-python",
   "name": "python",
   "nbconvert_exporter": "python",
   "pygments_lexer": "ipython3",
   "version": "3.6.4"
  }
 },
 "nbformat": 4,
 "nbformat_minor": 2
}
